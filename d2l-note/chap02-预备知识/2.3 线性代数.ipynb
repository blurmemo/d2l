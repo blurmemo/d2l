{
 "cells": [
  {
   "cell_type": "markdown",
   "id": "dee250ba",
   "metadata": {
    "pycharm": {
     "name": "#%% md\n"
    }
   },
   "source": [
    "标量"
   ]
  },
  {
   "cell_type": "code",
   "execution_count": 1,
   "id": "c8ed8ec7",
   "metadata": {
    "pycharm": {
     "name": "#%%\n"
    }
   },
   "outputs": [
    {
     "data": {
      "text/plain": [
       "(tensor(5.), tensor(1.), tensor(6.), tensor(1.5000), tensor(9.))"
      ]
     },
     "execution_count": 1,
     "metadata": {},
     "output_type": "execute_result"
    }
   ],
   "source": [
    "import torch\n",
    "\n",
    "x = torch.tensor(3.0)\n",
    "y = torch.tensor(2.0)\n",
    "x + y, x - y, x * y, x / y, x ** y"
   ]
  },
  {
   "cell_type": "markdown",
   "id": "b34d717b",
   "metadata": {
    "pycharm": {
     "name": "#%% md\n"
    }
   },
   "source": [
    "向量：标量值组成的列表，标量值称为向量的元素；一个轴的张量\n",
    "\n",
    "通过下标访问向量的任意元素，其中列向量是向量的默认方向\n",
    "\n",
    "长度（维度）：向量或轴维度表示向量或轴的元素数量\n",
    "\n",
    "ps：张量的维度表示张量具有的轴数，张量某个轴的维度是该轴的长度\n",
    "\n",
    "函数：len() 或 .shape "
   ]
  },
  {
   "cell_type": "code",
   "execution_count": 2,
   "id": "bf6f6176",
   "metadata": {
    "pycharm": {
     "name": "#%%\n"
    }
   },
   "outputs": [
    {
     "data": {
      "text/plain": [
       "tensor([0, 1, 2, 3])"
      ]
     },
     "execution_count": 2,
     "metadata": {},
     "output_type": "execute_result"
    }
   ],
   "source": [
    "x = torch.arange(4)\n",
    "x"
   ]
  },
  {
   "cell_type": "code",
   "execution_count": 3,
   "id": "34375bd6",
   "metadata": {
    "pycharm": {
     "name": "#%%\n"
    }
   },
   "outputs": [
    {
     "data": {
      "text/plain": [
       "tensor(2)"
      ]
     },
     "execution_count": 3,
     "metadata": {},
     "output_type": "execute_result"
    }
   ],
   "source": [
    "x[2]"
   ]
  },
  {
   "cell_type": "code",
   "execution_count": 4,
   "id": "061dfaa8",
   "metadata": {
    "pycharm": {
     "name": "#%%\n"
    }
   },
   "outputs": [
    {
     "data": {
      "text/plain": [
       "(4, torch.Size([4]))"
      ]
     },
     "execution_count": 4,
     "metadata": {},
     "output_type": "execute_result"
    }
   ],
   "source": [
    "len(x), x.shape"
   ]
  },
  {
   "cell_type": "markdown",
   "id": "48286e3a",
   "metadata": {
    "pycharm": {
     "name": "#%% md\n"
    }
   },
   "source": [
    "矩阵：具有两个轴的向量\n",
    "\n",
    "$$\\mathbf{A}=\\begin{bmatrix} a_{11} & a_{12} & \\cdots & a_{1n} \\\\ a_{21} & a_{22} & \\cdots & a_{2n} \\\\ \\vdots & \\vdots & \\ddots & \\vdots \\\\ a_{m1} & a_{m2} & \\cdots & a_{mn} \\\\ \\end{bmatrix}.$$\n",
    ":eqlabel:`eq_matrix_def`\n",
    "\n",
    "特征向量：Ax = $\\lambda$x（不被矩阵改变方向的向量）\n",
    "\n",
    "其中x的特征向量，$\\lambda$是特征值\n",
    "\n",
    "ps：对称矩阵总是有特征向量\n",
    "\n",
    "单位矩阵：对角线全为1，其余全为0\n",
    "\n",
    "对角矩阵：对角线不为0，其余为0\n",
    "\n",
    "逆矩阵：A、B两个矩阵满足AB = BA = E（单位矩阵）\n",
    "\n",
    "对称矩阵：n阶矩阵（方阵）满足$a_{ij} = a_{ji},$  $A = A^T$\n",
    "\n",
    "正定矩阵：$x^TAx$ $\\geq 0$，A是正定矩阵\n",
    "\n",
    "正交矩阵：满足逆矩阵 = 转置矩阵的矩阵，其所有的行/列向量之间相互正交（向量垂直，点积为0），且所有的列向量是单位向量\n",
    "\n",
    "置换矩阵：方阵的每一行、每一列具只有一个1，其余全为0，用来和方阵相乘做交换\n",
    "\n",
    "范数：矩阵长度\n",
    "\n",
    "c = A·b bence ||c|| $\\geq$ ||A||·||b||\n",
    "\n",
    "矩阵范数：满足上式最小的值\n",
    "\n",
    "Frobenius范数：矩阵所有的值平方求和再开方"
   ]
  },
  {
   "cell_type": "code",
   "execution_count": 5,
   "id": "1bc24055",
   "metadata": {
    "pycharm": {
     "name": "#%%\n"
    }
   },
   "outputs": [
    {
     "data": {
      "text/plain": [
       "tensor([[ True, False, False],\n",
       "        [False,  True, False],\n",
       "        [False, False,  True]])"
      ]
     },
     "execution_count": 5,
     "metadata": {},
     "output_type": "execute_result"
    }
   ],
   "source": [
    "# 矩阵\n",
    "A = torch.arange(9).reshape(3, 3)\n",
    "A, A.T # 矩阵和其转置\n",
    "A == A.T # 判断两个矩阵是否相等"
   ]
  },
  {
   "cell_type": "code",
   "execution_count": 6,
   "id": "d130bba4",
   "metadata": {
    "pycharm": {
     "name": "#%%\n"
    }
   },
   "outputs": [
    {
     "name": "stdout",
     "output_type": "stream",
     "text": [
      "id(A)： 2742066868112\n",
      "id(B)： 2742067010032\n"
     ]
    }
   ],
   "source": [
    "# 张量\n",
    "A = torch.arange(20, dtype=torch.float32).reshape(5, 4)\n",
    "B = A.clone() # 分配新的内存clone A的副本\n",
    "A, A + B\n",
    "print('id(A)：', id(A))\n",
    "print('id(B)：', id(B))"
   ]
  },
  {
   "cell_type": "code",
   "execution_count": 7,
   "id": "3db752f5",
   "metadata": {
    "pycharm": {
     "name": "#%%\n"
    }
   },
   "outputs": [
    {
     "data": {
      "text/plain": [
       "tensor([[  0.,   1.,   4.,   9.],\n",
       "        [ 16.,  25.,  36.,  49.],\n",
       "        [ 64.,  81., 100., 121.],\n",
       "        [144., 169., 196., 225.],\n",
       "        [256., 289., 324., 361.]])"
      ]
     },
     "execution_count": 7,
     "metadata": {},
     "output_type": "execute_result"
    }
   ],
   "source": [
    "# 哈达玛积：按元素乘法\n",
    "A * B"
   ]
  },
  {
   "cell_type": "code",
   "execution_count": 8,
   "id": "cc41cd93",
   "metadata": {
    "pycharm": {
     "name": "#%%\n"
    }
   },
   "outputs": [
    {
     "data": {
      "text/plain": [
       "(tensor([[[ 2.,  3.,  4.,  5.],\n",
       "          [ 6.,  7.,  8.,  9.],\n",
       "          [10., 11., 12., 13.]],\n",
       " \n",
       "         [[14., 15., 16., 17.],\n",
       "          [18., 19., 20., 21.],\n",
       "          [22., 23., 24., 25.]]]),\n",
       " torch.Size([2, 3, 4]))"
      ]
     },
     "execution_count": 8,
     "metadata": {},
     "output_type": "execute_result"
    }
   ],
   "source": [
    "a = 2\n",
    "X = torch.arange(24, dtype=torch.float32).reshape(2, 3, 4)\n",
    "a + X, (a * X).shape"
   ]
  },
  {
   "cell_type": "code",
   "execution_count": 13,
   "id": "24f1416b",
   "metadata": {
    "pycharm": {
     "name": "#%%\n"
    }
   },
   "outputs": [
    {
     "data": {
      "text/plain": [
       "(tensor([[[ 0.,  1.,  2.,  3.,  4.,  5.,  6.,  7.],\n",
       "          [ 8.,  9., 10., 11., 12., 13., 14., 15.],\n",
       "          [16., 17., 18., 19., 20., 21., 22., 23.]],\n",
       " \n",
       "         [[24., 25., 26., 27., 28., 29., 30., 31.],\n",
       "          [32., 33., 34., 35., 36., 37., 38., 39.],\n",
       "          [40., 41., 42., 43., 44., 45., 46., 47.]]]),\n",
       " torch.Size([2, 3, 8]),\n",
       " tensor(1128.))"
      ]
     },
     "execution_count": 13,
     "metadata": {},
     "output_type": "execute_result"
    }
   ],
   "source": [
    "# 降维\n",
    "# 降维求和\n",
    "x = torch.arange(48, dtype=torch.float32).reshape(2, 3, 8)\n",
    "x, x.shape, x.sum() # sum()默认全部降维"
   ]
  },
  {
   "cell_type": "code",
   "execution_count": 14,
   "id": "a276712f",
   "metadata": {
    "pycharm": {
     "name": "#%%\n"
    }
   },
   "outputs": [
    {
     "data": {
      "text/plain": [
       "tensor([[24., 26., 28., 30., 32., 34., 36., 38.],\n",
       "        [40., 42., 44., 46., 48., 50., 52., 54.],\n",
       "        [56., 58., 60., 62., 64., 66., 68., 70.]])"
      ]
     },
     "execution_count": 14,
     "metadata": {},
     "output_type": "execute_result"
    }
   ],
   "source": [
    "x.sum(axis=0) # 指定轴降维"
   ]
  },
  {
   "cell_type": "code",
   "execution_count": 15,
   "id": "eaa8ea1b",
   "metadata": {
    "pycharm": {
     "name": "#%%\n"
    }
   },
   "outputs": [
    {
     "data": {
      "text/plain": [
       "tensor([120., 126., 132., 138., 144., 150., 156., 162.])"
      ]
     },
     "execution_count": 15,
     "metadata": {},
     "output_type": "execute_result"
    }
   ],
   "source": [
    "x.sum(axis=[0, 1]) # 指定两个维度降维"
   ]
  },
  {
   "cell_type": "code",
   "execution_count": 16,
   "id": "86105451",
   "metadata": {
    "pycharm": {
     "name": "#%%\n"
    }
   },
   "outputs": [
    {
     "data": {
      "text/plain": [
       "(tensor(23.5000), tensor(23.5000))"
      ]
     },
     "execution_count": 16,
     "metadata": {},
     "output_type": "execute_result"
    }
   ],
   "source": [
    "x.mean(), x.sum() / x.numel() # 等价求平均值 all元素"
   ]
  },
  {
   "cell_type": "code",
   "execution_count": 17,
   "id": "6bffe771",
   "metadata": {
    "pycharm": {
     "name": "#%%\n"
    }
   },
   "outputs": [
    {
     "data": {
      "text/plain": [
       "(tensor([[ 8.,  9., 10., 11., 12., 13., 14., 15.],\n",
       "         [32., 33., 34., 35., 36., 37., 38., 39.]]),\n",
       " tensor([[ 8.,  9., 10., 11., 12., 13., 14., 15.],\n",
       "         [32., 33., 34., 35., 36., 37., 38., 39.]]))"
      ]
     },
     "execution_count": 17,
     "metadata": {},
     "output_type": "execute_result"
    }
   ],
   "source": [
    "x.mean(axis=1), x.sum(axis=1) / x.shape[1] # 指定维度求平均值，分子用x.shape[?]"
   ]
  },
  {
   "cell_type": "code",
   "execution_count": 19,
   "id": "244bbef4",
   "metadata": {
    "pycharm": {
     "name": "#%%\n"
    }
   },
   "outputs": [
    {
     "data": {
      "text/plain": [
       "torch.Size([2, 1, 8])"
      ]
     },
     "execution_count": 19,
     "metadata": {},
     "output_type": "execute_result"
    }
   ],
   "source": [
    "# 非降维求和\n",
    "sum_x = x.sum(axis=1, keepdims=True)\n",
    "sum_x.shape"
   ]
  },
  {
   "cell_type": "code",
   "execution_count": 20,
   "id": "11830111",
   "metadata": {
    "pycharm": {
     "name": "#%%\n"
    }
   },
   "outputs": [
    {
     "data": {
      "text/plain": [
       "tensor([[[0.0000, 0.0370, 0.0667, 0.0909, 0.1111, 0.1282, 0.1429, 0.1556],\n",
       "         [0.3333, 0.3333, 0.3333, 0.3333, 0.3333, 0.3333, 0.3333, 0.3333],\n",
       "         [0.6667, 0.6296, 0.6000, 0.5758, 0.5556, 0.5385, 0.5238, 0.5111]],\n",
       "\n",
       "        [[0.2500, 0.2525, 0.2549, 0.2571, 0.2593, 0.2613, 0.2632, 0.2650],\n",
       "         [0.3333, 0.3333, 0.3333, 0.3333, 0.3333, 0.3333, 0.3333, 0.3333],\n",
       "         [0.4167, 0.4141, 0.4118, 0.4095, 0.4074, 0.4054, 0.4035, 0.4017]]])"
      ]
     },
     "execution_count": 20,
     "metadata": {},
     "output_type": "execute_result"
    }
   ],
   "source": [
    "# 广播\n",
    "x / sum_x"
   ]
  },
  {
   "cell_type": "code",
   "execution_count": 30,
   "id": "5e55ea58",
   "metadata": {
    "pycharm": {
     "name": "#%%\n"
    }
   },
   "outputs": [
    {
     "data": {
      "text/plain": [
       "(tensor([[[ 0.,  1.,  2.,  3.,  4.,  5.,  6.,  7.],\n",
       "          [ 8.,  9., 10., 11., 12., 13., 14., 15.],\n",
       "          [16., 17., 18., 19., 20., 21., 22., 23.]],\n",
       " \n",
       "         [[24., 25., 26., 27., 28., 29., 30., 31.],\n",
       "          [32., 33., 34., 35., 36., 37., 38., 39.],\n",
       "          [40., 41., 42., 43., 44., 45., 46., 47.]]]),\n",
       " tensor([[[ 0.,  1.,  2.,  3.,  4.,  5.,  6.,  7.],\n",
       "          [ 8.,  9., 10., 11., 12., 13., 14., 15.],\n",
       "          [16., 17., 18., 19., 20., 21., 22., 23.]],\n",
       " \n",
       "         [[24., 26., 28., 30., 32., 34., 36., 38.],\n",
       "          [40., 42., 44., 46., 48., 50., 52., 54.],\n",
       "          [56., 58., 60., 62., 64., 66., 68., 70.]]]))"
      ]
     },
     "execution_count": 30,
     "metadata": {},
     "output_type": "execute_result"
    }
   ],
   "source": [
    "# 指定沿某个轴求累加和\n",
    "x, x.cumsum(axis = 0)"
   ]
  },
  {
   "cell_type": "code",
   "execution_count": 35,
   "id": "cf9315b4",
   "metadata": {
    "pycharm": {
     "name": "#%%\n"
    }
   },
   "outputs": [
    {
     "data": {
      "text/plain": [
       "(tensor([1., 1., 1., 1., 1., 1., 1., 1.]),\n",
       " tensor([0., 1., 2., 3., 4., 5., 6., 7.]),\n",
       " tensor(28.),\n",
       " tensor(28.))"
      ]
     },
     "execution_count": 35,
     "metadata": {},
     "output_type": "execute_result"
    }
   ],
   "source": [
    "# 向量点积\n",
    "y = torch.arange(8, dtype=torch.float32)\n",
    "x = torch.ones_like(y)\n",
    "x, y, torch.dot(x, y), torch.sum(x * y)"
   ]
  },
  {
   "cell_type": "code",
   "execution_count": 37,
   "id": "8b8bf9f0",
   "metadata": {
    "pycharm": {
     "name": "#%%\n"
    }
   },
   "outputs": [
    {
     "data": {
      "text/plain": [
       "tensor([ 30.,  80., 130., 180.])"
      ]
     },
     "execution_count": 37,
     "metadata": {},
     "output_type": "execute_result"
    }
   ],
   "source": [
    "# 矩阵向量积\n",
    "A = torch.arange(20, dtype=torch.float32).reshape(4, 5)\n",
    "x = torch.arange(5, dtype=torch.float32) # 默认是列向量\n",
    "torch.mv(A, x)"
   ]
  },
  {
   "cell_type": "code",
   "execution_count": 41,
   "id": "ec560e7f",
   "metadata": {
    "pycharm": {
     "name": "#%%\n"
    }
   },
   "outputs": [
    {
     "data": {
      "text/plain": [
       "tensor([[ 180.,  190.,  200.,  210.,  220.,  230.],\n",
       "        [ 480.,  515.,  550.,  585.,  620.,  655.],\n",
       "        [ 780.,  840.,  900.,  960., 1020., 1080.],\n",
       "        [1080., 1165., 1250., 1335., 1420., 1505.]])"
      ]
     },
     "execution_count": 41,
     "metadata": {},
     "output_type": "execute_result"
    }
   ],
   "source": [
    "# 矩阵矩阵积\n",
    "A = torch.arange(20, dtype=torch.float32).reshape(4, 5)\n",
    "B = torch.arange(30, dtype=torch.float32).reshape(5, 6)\n",
    "torch.mm(A, B)"
   ]
  },
  {
   "cell_type": "code",
   "execution_count": 43,
   "id": "8c585f5f",
   "metadata": {
    "pycharm": {
     "name": "#%%\n"
    }
   },
   "outputs": [
    {
     "data": {
      "text/plain": [
       "tensor(5.)"
      ]
     },
     "execution_count": 43,
     "metadata": {},
     "output_type": "execute_result"
    }
   ],
   "source": [
    "# 范数\n",
    "# torch.norm() 默认L2范数 平方和范数   对于矩阵是F范数\n",
    "u = torch.tensor([-3.0, 4.0])\n",
    "torch.norm(u)"
   ]
  },
  {
   "cell_type": "code",
   "execution_count": 44,
   "id": "65cbd0f7",
   "metadata": {
    "pycharm": {
     "name": "#%%\n"
    }
   },
   "outputs": [
    {
     "data": {
      "text/plain": [
       "tensor(7.)"
      ]
     },
     "execution_count": 44,
     "metadata": {},
     "output_type": "execute_result"
    }
   ],
   "source": [
    "# torch.abs(x).sum() L1范数 绝对值和范数\n",
    "torch.abs(u).sum()"
   ]
  },
  {
   "cell_type": "code",
   "execution_count": 46,
   "id": "7a8014a1",
   "metadata": {
    "pycharm": {
     "name": "#%%\n"
    }
   },
   "outputs": [
    {
     "data": {
      "text/plain": [
       "tensor(6.)"
      ]
     },
     "execution_count": 46,
     "metadata": {},
     "output_type": "execute_result"
    }
   ],
   "source": [
    "torch.norm(torch.ones((4, 9)))"
   ]
  },
  {
   "cell_type": "code",
   "execution_count": 47,
   "id": "c1826d7a",
   "metadata": {
    "pycharm": {
     "name": "#%%\n"
    }
   },
   "outputs": [
    {
     "data": {
      "text/plain": [
       "tensor([[True, True, True, True, True],\n",
       "        [True, True, True, True, True],\n",
       "        [True, True, True, True, True],\n",
       "        [True, True, True, True, True]])"
      ]
     },
     "execution_count": 47,
     "metadata": {},
     "output_type": "execute_result"
    }
   ],
   "source": [
    "# 练习\n",
    "# 1.\n",
    "A = torch.arange(20, dtype=torch.float32).reshape(4, 5)\n",
    "A == A.T.T"
   ]
  },
  {
   "cell_type": "code",
   "execution_count": 49,
   "id": "b8649d7c",
   "metadata": {
    "pycharm": {
     "name": "#%%\n"
    }
   },
   "outputs": [
    {
     "data": {
      "text/plain": [
       "tensor([[True, True, True, True],\n",
       "        [True, True, True, True],\n",
       "        [True, True, True, True],\n",
       "        [True, True, True, True],\n",
       "        [True, True, True, True]])"
      ]
     },
     "execution_count": 49,
     "metadata": {},
     "output_type": "execute_result"
    }
   ],
   "source": [
    "# 2.\n",
    "B = A.clone()\n",
    "A.T + B.T == (A + B).T"
   ]
  },
  {
   "cell_type": "code",
   "execution_count": 51,
   "id": "ad65ac5d",
   "metadata": {
    "pycharm": {
     "name": "#%%\n"
    }
   },
   "outputs": [
    {
     "data": {
      "text/plain": [
       "tensor([[0.0000, 0.1000, 0.2000, 0.3000, 0.4000],\n",
       "        [0.1429, 0.1714, 0.2000, 0.2286, 0.2571],\n",
       "        [0.1667, 0.1833, 0.2000, 0.2167, 0.2333],\n",
       "        [0.1765, 0.1882, 0.2000, 0.2118, 0.2235]])"
      ]
     },
     "execution_count": 51,
     "metadata": {},
     "output_type": "execute_result"
    }
   ],
   "source": [
    "# 3. pass\n",
    "# 4. pass\n",
    "# 5. pass\n",
    "# 6.\n",
    "A / A.sum(axis=1) # 报错 shape不一致，需要keepdims=True"
   ]
  },
  {
   "cell_type": "code",
   "execution_count": null,
   "id": "61f6ee07",
   "metadata": {
    "pycharm": {
     "name": "#%%\n"
    }
   },
   "outputs": [],
   "source": [
    "# 7. pass"
   ]
  }
 ],
 "metadata": {
  "kernelspec": {
   "display_name": "Python 3 (ipykernel)",
   "language": "python",
   "name": "python3"
  },
  "language_info": {
   "codemirror_mode": {
    "name": "ipython",
    "version": 3
   },
   "file_extension": ".py",
   "mimetype": "text/x-python",
   "name": "python",
   "nbconvert_exporter": "python",
   "pygments_lexer": "ipython3",
   "version": "3.9.16"
  }
 },
 "nbformat": 4,
 "nbformat_minor": 5
}